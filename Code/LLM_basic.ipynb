{
 "cells": [
  {
   "cell_type": "markdown",
   "id": "02d38eab-6e95-48af-991a-5407645e6df5",
   "metadata": {},
   "source": [
    "# Langchain\n",
    "* Large language model\n",
    "* Chain: 모듈들을 체인으로 연결하여 다른 툴의 출력을 다음 툴의 입력으로 연결하는 방식\n",
    "  * 예: 검색 -> OpenAI(LLM) -> 계산\n",
    "* LLM(Large Language Model)을 이용해서 뭔가 만들때 쓸수 있는 툴/라이브러리 모음.\n",
    "* 파이썬과 자바스크립트 라이브러리를 제공.\n",
    "* 검색, 메모리, 계산, 요약, 색인, Agent(에이전트) 등의 기능을 제공\n",
    "* 모듈화로 쉽게 부품을 갈아끼울수 있음\n",
    "* LLM은 기본 OpenAI (text-davinci-003) 이용\n",
    "---\n",
    "* 출력과 입력을 갈아낄수 있다. OpenAI(LLM) 이것도 갈아낄수있다.\n",
    "---"
   ]
  },
  {
   "cell_type": "code",
   "execution_count": 2,
   "id": "2a86a55e-64b5-47d8-b50e-b5702c667ba3",
   "metadata": {
    "tags": []
   },
   "outputs": [],
   "source": [
    "# # 패키지설치\n",
    "# # Embedding 관련 패키지\n",
    "#  #@title 기타 패키지 설치 (구글검색, 위키피디아, VectorStore, HuggingFace Embedding)\n",
    "# !pip install google-search-results\n",
    "# !pip install wikipedia\n",
    "# !pip install faiss-cpu # 오픈소스 벡터DB (Facebook, MIT license)\n",
    "# !pip install sentence_transformers # HuggingFace Embedding 사용 위해서 필요\n",
    "# !pip install tiktoken # Summarization 할때 필요"
   ]
  },
  {
   "cell_type": "markdown",
   "id": "1211bfce-c726-4d61-9859-ead6057d9ed5",
   "metadata": {},
   "source": [
    "# 0.API 입력받기"
   ]
  },
  {
   "cell_type": "code",
   "execution_count": 6,
   "id": "887d742e-d2e2-4e49-ac71-c812cfb7491f",
   "metadata": {
    "tags": []
   },
   "outputs": [],
   "source": [
    "#@title 0. API 키 설정\n",
    "import os\n",
    "#@markdown https://platform.openai.com/account/api-keys\n",
    "OPENAI_API_KEY = 
    "\n",
    "#@markdown https://huggingface.co/settings/tokens\n",
    "#@markdown HuggingFace에서 모델 다운로드나 클라우드 모델 사용하기 위해서 필요 (무료)\n",
    "HUGGINGFACEHUB_API_TOKEN = 
    "\n",
    "#@markdown https://serpapi.com/manage-api-key\n",
    "#@markdown 구글 검색하기 위해서 필요 (월 100회 무료)\n",
    "SERPAPI_API_KEY = 
    "\n",
    "os.environ[\"OPENAI_API_KEY\"] = OPENAI_API_KEY\n",
    "os.environ[\"HUGGINGFACEHUB_API_TOKEN\"] = HUGGINGFACEHUB_API_TOKEN\n",
    "os.environ[\"SERPAPI_API_KEY\"] = SERPAPI_API_KEY\n"
   ]
  },
  {
   "cell_type": "markdown",
   "id": "3045f4af-c3ad-4bbd-823a-935c0a2e510a",
   "metadata": {},
   "source": [
    "### openAI (text-davinci-003)"
   ]
  },
  {
   "cell_type": "code",
   "execution_count": 8,
   "id": "d78adfb2-b3a6-47ba-bf44-b19c1738582e",
   "metadata": {
    "tags": []
   },
   "outputs": [
    {
     "data": {
      "text/plain": [
       "'\\n\\n1. Iron Maiden - The Trooper\\n2. Metallica - Enter Sandman\\n3. Megadeth - Holy Wars...The Punishment Due\\n4. Slayer - Raining Blood\\n5. Anthrax - Madhouse'"
      ]
     },
     "execution_count": 8,
     "metadata": {},
     "output_type": "execute_result"
    }
   ],
   "source": [
    "#@title 1. OpenAI LLM (text-davinci-003)\n",
    "\n",
    "from langchain.llms import OpenAI\n",
    "\n",
    "llm = OpenAI(model_name='text-davinci-003', temperature=0.1)\n",
    "\n",
    "llm('1980년대 메탈 음악 5곡 추천해줘.')"
   ]
  },
  {
   "cell_type": "markdown",
   "id": "8f1ce65b-88df-4887-a599-1e298cdc2d22",
   "metadata": {},
   "source": [
    "# chatOpenAI LLM (gpt-3.5-turbo)"
   ]
  },
  {
   "cell_type": "code",
   "execution_count": 9,
   "id": "dc88917a-c06d-46d4-a505-051b75cf8ca6",
   "metadata": {
    "tags": []
   },
   "outputs": [],
   "source": [
    "from langchain.chat_models import ChatOpenAI\n",
    "from langchain.schema import (\n",
    "    AIMessage,\n",
    "    HumanMessage,\n",
    "    SystemMessage)"
   ]
  },
  {
   "cell_type": "code",
   "execution_count": 11,
   "id": "17c9dfbb-d421-471f-ac86-f249e9064f8c",
   "metadata": {
    "tags": []
   },
   "outputs": [
    {
     "data": {
      "text/plain": [
       "'1. \"Master of Puppets\" - Metallica\\n2. \"Crazy Train\" - Ozzy Osbourne\\n3. \"Breaking the Law\" - Judas Priest\\n4. \"Enter Sandman\" - Metallica\\n5. \"Paranoid\" - Black Sabbath'"
      ]
     },
     "execution_count": 11,
     "metadata": {},
     "output_type": "execute_result"
    }
   ],
   "source": [
    "chat = ChatOpenAI(model_name='gpt-3.5-turbo', temperature=0.9)\n",
    "sys = SystemMessage(content=\"당신은 음악 추천을 해주는 전문 AI입니다.\")\n",
    "msg = HumanMessage(content='1980년대 메탈 음악 5곡 추천해줘.')\n",
    "\n",
    "aimsg = chat([sys, msg])\n",
    "aimsg.content"
   ]
  },
  {
   "cell_type": "markdown",
   "id": "3b1838d9-2a66-419b-8af6-ac2bcad44908",
   "metadata": {},
   "source": [
    "# prompt Template"
   ]
  },
  {
   "cell_type": "code",
   "execution_count": 12,
   "id": "764f840e-ff3d-4412-ae53-4a6f7ff1c0e4",
   "metadata": {
    "tags": []
   },
   "outputs": [
    {
     "data": {
      "text/plain": [
       "'AI 여행 추천 서비스 만드는 회사 이름 추천해줘. 기억에 남는 한글 이름으로'"
      ]
     },
     "execution_count": 12,
     "metadata": {},
     "output_type": "execute_result"
    }
   ],
   "source": [
    "#@title 3. Prompt Template & chain\n",
    "\n",
    "from langchain.prompts import PromptTemplate\n",
    "\n",
    "prompt = PromptTemplate(\n",
    "    input_variables=[\"상품\"],\n",
    "    template=\"{상품} 만드는 회사 이름 추천해줘. 기억에 남는 한글 이름으로\",\n",
    ")\n",
    "\n",
    "prompt.format(상품=\"AI 여행 추천 서비스\")"
   ]
  },
  {
   "cell_type": "code",
   "execution_count": 16,
   "id": "ca9ab5d9-66cd-47f6-97d4-450f23678660",
   "metadata": {
    "tags": []
   },
   "outputs": [
    {
     "data": {
      "text/plain": [
       "'숲길여행 추천(AI)'"
      ]
     },
     "execution_count": 16,
     "metadata": {},
     "output_type": "execute_result"
    }
   ],
   "source": [
    "from langchain.chains import LLMChain\n",
    "chain = LLMChain(llm=chat, prompt=prompt)\n",
    "\n",
    "# chain.run(\"AI 여행 추천 서비스\")\n",
    "chain.run(상품=\"AI 여행 추천 서비스\")"
   ]
  },
  {
   "cell_type": "markdown",
   "id": "0da3422a-df04-4648-851e-05183bd078a4",
   "metadata": {},
   "source": [
    "# chatPromptTemplate and chain"
   ]
  },
  {
   "cell_type": "code",
   "execution_count": 19,
   "id": "7a22bd6e-531e-4905-92e1-dda1b9d3bf71",
   "metadata": {
    "tags": []
   },
   "outputs": [
    {
     "data": {
      "text/plain": [
       "'제 키는 187cm입니다.'"
      ]
     },
     "execution_count": 19,
     "metadata": {},
     "output_type": "execute_result"
    }
   ],
   "source": [
    "#@title 4. ChatPromptTemplate & chain\n",
    "\n",
    "from langchain.chat_models import ChatOpenAI\n",
    "from langchain.prompts.chat import (\n",
    "    ChatPromptTemplate,\n",
    "    SystemMessagePromptTemplate,\n",
    "    HumanMessagePromptTemplate,\n",
    ")\n",
    "\n",
    "chat = ChatOpenAI(temperature=0)\n",
    "\n",
    "template=\"You are a helpful assisstant that tranlates {input_language} to {output_language}.\"\n",
    "system_message_prompt = SystemMessagePromptTemplate.from_template(template)\n",
    "human_template=\"{text}\"\n",
    "human_message_prompt = HumanMessagePromptTemplate.from_template(human_template)\n",
    "\n",
    "chat_prompt = ChatPromptTemplate.from_messages([system_message_prompt, human_message_prompt])\n",
    "\n",
    "### 시스템 메세지를 모델에보내고\n",
    "### 휴먼 메세지를 질문에 적는다.\n",
    "\n",
    "### LLMChain을 이용하여 모델과 질문이 어떤것인지 정의하고\n",
    "### chain.run 을 통해 변수들을 넣어준다.\n",
    "chatchain = LLMChain(llm=chat, prompt=chat_prompt)\n",
    "chatchain.run(input_language=\"English\", output_language=\"Korean\", text=\"My height is 187cm\")\n"
   ]
  },
  {
   "cell_type": "markdown",
   "id": "10993477-b739-4c4d-abd2-1eea0f29b6ab",
   "metadata": {},
   "source": [
    "### Agent and Tools"
   ]
  },
  {
   "cell_type": "code",
   "execution_count": 21,
   "id": "8747a12a-2477-4206-ace1-ef01cc0749e5",
   "metadata": {
    "tags": []
   },
   "outputs": [],
   "source": [
    "#@title 5. Agents and Tools\n",
    "\n",
    "from langchain.agents import load_tools\n",
    "from langchain.agents import initialize_agent\n",
    "from langchain.agents import AgentType\n",
    "\n",
    "## tool -> 특정일을 한다. 구글검색, DB조회 파이썬 실행\n",
    "## Agents 어떤툴을 어떤순서로 실행할지 결정하는 역할 (LLM이용)"
   ]
  },
  {
   "cell_type": "code",
   "execution_count": 22,
   "id": "250e68d3-fccb-4949-8f9b-3e95fbc2fb6c",
   "metadata": {
    "tags": []
   },
   "outputs": [],
   "source": [
    "# tools = load_tools([\"serpapi\", \"llm-math\"], llm=chat)\n",
    "tools = load_tools([\"wikipedia\", \"llm-math\"], llm=chat)\n",
    "\n",
    "agent = initialize_agent(tools, llm=chat, agent=AgentType.ZERO_SHOT_REACT_DESCRIPTION, verbose=True)\n",
    "\n",
    "# 구글 검색후 계산한다. \n"
   ]
  },
  {
   "cell_type": "code",
   "execution_count": 23,
   "id": "e73047ec-b57e-495a-bfd3-83b17a7f1074",
   "metadata": {
    "tags": []
   },
   "outputs": [
    {
     "name": "stdout",
     "output_type": "stream",
     "text": [
      "\n",
      "\n",
      "\u001b[1m> Entering new AgentExecutor chain...\u001b[0m\n",
      "\u001b[32;1m\u001b[1;3mI need to calculate the age of 이순신 장군 if he were alive today.\n",
      "Action: Calculator\n",
      "Action Input: 2023 - 1549 (이순신 장군의 출생년도)\u001b[0m\u001b[33;1m\u001b[1;3mAnswer: 474\u001b[0m\u001b[32;1m\u001b[1;3mThat's the number of years 이순신 장군 would have lived if he were alive today.\n",
      "Final Answer: 이순신 장군 would be 474 years old if he were alive today.\u001b[0m\n",
      "\n",
      "\u001b[1m> Finished chain.\u001b[0m\n"
     ]
    },
    {
     "data": {
      "text/plain": [
       "'이순신 장군 would be 474 years old if he were alive today.'"
      ]
     },
     "execution_count": 23,
     "metadata": {},
     "output_type": "execute_result"
    }
   ],
   "source": [
    "agent.run('이순신 장군이 살아있으면 현재나이는 몇살일까요? 현재(2023년 입니다)')"
   ]
  },
  {
   "cell_type": "code",
   "execution_count": 26,
   "id": "ed722c16-fdbe-499d-a06e-a5a22c710b47",
   "metadata": {
    "tags": []
   },
   "outputs": [
    {
     "name": "stdout",
     "output_type": "stream",
     "text": [
      "A wrapper around Wikipedia. Useful for when you need to answer general questions about people, places, companies, historical events, or other subjects. Input should be a search query.\n",
      "Useful for when you need to answer questions about math.\n"
     ]
    }
   ],
   "source": [
    "print(agent.tools[0].description)\n",
    "print(agent.tools[1].description)\n",
    "\n",
    "## wikipedia 검색과 그리고 계산순서대로 있는걸 알수있다."
   ]
  },
  {
   "cell_type": "markdown",
   "id": "56263523-1f4e-42ff-b578-f8165ef4a0db",
   "metadata": {},
   "source": [
    "### 추가질문시 기억할수있게하는 Memory"
   ]
  },
  {
   "cell_type": "code",
   "execution_count": 27,
   "id": "bebd439b-9ea5-4904-89c7-626f3b0e6537",
   "metadata": {
    "tags": []
   },
   "outputs": [
    {
     "name": "stdout",
     "output_type": "stream",
     "text": [
      "\n",
      "\n",
      "\u001b[1m> Entering new ConversationChain chain...\u001b[0m\n",
      "Prompt after formatting:\n",
      "\u001b[32;1m\u001b[1;3mThe following is a friendly conversation between a human and an AI. The AI is talkative and provides lots of specific details from its context. If the AI does not know the answer to a question, it truthfully says it does not know.\n",
      "\n",
      "Current conversation:\n",
      "\n",
      "Human: 인공지능에서 Transformer가 뭐야?\n",
      "AI:\u001b[0m\n",
      "\n",
      "\u001b[1m> Finished chain.\u001b[0m\n"
     ]
    },
    {
     "data": {
      "text/plain": [
       "'Transformer는 자연어 처리 분야에서 매우 유명한 딥러닝 모델 중 하나입니다. 이 모델은 기계 번역, 질의응답, 요약 등 다양한 자연어 처리 태스크에서 우수한 성능을 보여주고 있습니다. Transformer는 Attention 메커니즘을 사용하여 입력 시퀀스의 모든 위치에 대한 정보를 고려하며, 이를 통해 이전의 모델들보다 더욱 효과적인 자연어 처리가 가능해졌습니다.'"
      ]
     },
     "execution_count": 27,
     "metadata": {},
     "output_type": "execute_result"
    }
   ],
   "source": [
    "#@title 6. Memory\n",
    "from langchain import ConversationChain\n",
    "\n",
    "conversation = ConversationChain(llm=chat, verbose=True)\n",
    "conversation.predict(input=\"인공지능에서 Transformer가 뭐야?\")"
   ]
  },
  {
   "cell_type": "code",
   "execution_count": 28,
   "id": "3f3f8a40-996a-4443-8183-a4028d787369",
   "metadata": {
    "tags": []
   },
   "outputs": [
    {
     "name": "stdout",
     "output_type": "stream",
     "text": [
      "\n",
      "\n",
      "\u001b[1m> Entering new ConversationChain chain...\u001b[0m\n",
      "Prompt after formatting:\n",
      "\u001b[32;1m\u001b[1;3mThe following is a friendly conversation between a human and an AI. The AI is talkative and provides lots of specific details from its context. If the AI does not know the answer to a question, it truthfully says it does not know.\n",
      "\n",
      "Current conversation:\n",
      "Human: 인공지능에서 Transformer가 뭐야?\n",
      "AI: Transformer는 자연어 처리 분야에서 매우 유명한 딥러닝 모델 중 하나입니다. 이 모델은 기계 번역, 질의응답, 요약 등 다양한 자연어 처리 태스크에서 우수한 성능을 보여주고 있습니다. Transformer는 Attention 메커니즘을 사용하여 입력 시퀀스의 모든 위치에 대한 정보를 고려하며, 이를 통해 이전의 모델들보다 더욱 효과적인 자연어 처리가 가능해졌습니다.\n",
      "Human: RNN하고 차이 설명해줘.\n",
      "AI:\u001b[0m\n",
      "\n",
      "\u001b[1m> Finished chain.\u001b[0m\n"
     ]
    },
    {
     "data": {
      "text/plain": [
       "'RNN은 Recurrent Neural Network의 약자로, 시퀀스 데이터를 처리하는 데 특화된 딥러닝 모델입니다. RNN은 이전 시점의 출력값을 현재 시점의 입력값으로 사용하여 시퀀스 데이터의 특징을 추출합니다. 이에 반해 Transformer는 Attention 메커니즘을 사용하여 입력 시퀀스의 모든 위치에 대한 정보를 고려합니다. 이를 통해 RNN보다 더욱 효과적인 자연어 처리가 가능해졌습니다. 또한, RNN은 시퀀스 길이가 길어질수록 기울기 소실 문제가 발생하는 단점이 있지만, Transformer는 이러한 문제를 해결할 수 있습니다.'"
      ]
     },
     "execution_count": 28,
     "metadata": {},
     "output_type": "execute_result"
    }
   ],
   "source": [
    "conversation.predict(input=\"RNN하고 차이 설명해줘.\")"
   ]
  },
  {
   "cell_type": "code",
   "execution_count": 29,
   "id": "560dfc35-19af-43b7-8fef-83a94e0cdcc8",
   "metadata": {
    "tags": []
   },
   "outputs": [
    {
     "data": {
      "text/plain": [
       "ConversationBufferMemory(chat_memory=ChatMessageHistory(messages=[HumanMessage(content='인공지능에서 Transformer가 뭐야?', additional_kwargs={}), AIMessage(content='Transformer는 자연어 처리 분야에서 매우 유명한 딥러닝 모델 중 하나입니다. 이 모델은 기계 번역, 질의응답, 요약 등 다양한 자연어 처리 태스크에서 우수한 성능을 보여주고 있습니다. Transformer는 Attention 메커니즘을 사용하여 입력 시퀀스의 모든 위치에 대한 정보를 고려하며, 이를 통해 이전의 모델들보다 더욱 효과적인 자연어 처리가 가능해졌습니다.', additional_kwargs={}), HumanMessage(content='RNN하고 차이 설명해줘.', additional_kwargs={}), AIMessage(content='RNN은 Recurrent Neural Network의 약자로, 시퀀스 데이터를 처리하는 데 특화된 딥러닝 모델입니다. RNN은 이전 시점의 출력값을 현재 시점의 입력값으로 사용하여 시퀀스 데이터의 특징을 추출합니다. 이에 반해 Transformer는 Attention 메커니즘을 사용하여 입력 시퀀스의 모든 위치에 대한 정보를 고려합니다. 이를 통해 RNN보다 더욱 효과적인 자연어 처리가 가능해졌습니다. 또한, RNN은 시퀀스 길이가 길어질수록 기울기 소실 문제가 발생하는 단점이 있지만, Transformer는 이러한 문제를 해결할 수 있습니다.', additional_kwargs={})]), output_key=None, input_key=None, return_messages=False, human_prefix='Human', ai_prefix='AI', memory_key='history')"
      ]
     },
     "execution_count": 29,
     "metadata": {},
     "output_type": "execute_result"
    }
   ],
   "source": [
    "#여기서 memory를 보면 같이보자.\n",
    "\n",
    "conversation.memory"
   ]
  },
  {
   "cell_type": "markdown",
   "id": "750bf1bd-292e-484a-b4a5-21091f876eaf",
   "metadata": {},
   "source": [
    "* ConversationBufferMemory : 대화 기록(기본)\n",
    "* ConversationBufferWindowMemory : 마지막 n개의 대화만 기억\n",
    "* Entity Memory : 개체에 대한 정보를 저장\n",
    "* Conversation Knowledge Graph Memory: 개체의 triple 저장: (sam, 좋아하는 색, 파랑)\n",
    "* ConversationSummaryMemory : 대화의 요약본을 저장\n",
    "* ConversationSummaryBufferMemory : 대화 요약본 + 마지막 n토큰 기억\n",
    "* ConversationTokenBufferMemory : 마지막 n토큰 기억\n",
    "* VectorStore-Backed Memory : 벡터DB에 정보 저장"
   ]
  },
  {
   "cell_type": "markdown",
   "id": "c6a4f81f-1b7e-461e-a06f-bfff6454b45c",
   "metadata": {},
   "source": [
    "### DocumentLeader\n",
    "* 특정웹페이지 문서 이메일 유튜브 등등 텍스트 정보를 긁어모으는 역할을 한다"
   ]
  },
  {
   "cell_type": "code",
   "execution_count": 30,
   "id": "71e32ee5-78b0-48d2-8eeb-8b360f072790",
   "metadata": {
    "tags": []
   },
   "outputs": [],
   "source": [
    "#@title 7. Document Loaders\n",
    "from langchain.document_loaders import WebBaseLoader\n",
    "\n",
    "loader = WebBaseLoader(web_path=\"https://ko.wikipedia.org/wiki/NewJeans\")\n",
    "\n",
    "documents = loader.load()\n",
    "\n",
    "# 사이트에서 특정 문서를 가져온다."
   ]
  },
  {
   "cell_type": "code",
   "execution_count": 31,
   "id": "949f61b1-27cb-4dc5-b55e-2fec5cd93854",
   "metadata": {
    "tags": []
   },
   "outputs": [
    {
     "data": {
      "text/plain": [
       "10"
      ]
     },
     "execution_count": 31,
     "metadata": {},
     "output_type": "execute_result"
    }
   ],
   "source": [
    "from langchain.text_splitter import CharacterTextSplitter\n",
    "text_splitter = CharacterTextSplitter(chunk_size=1000, chunk_overlap=0)\n",
    "docs = text_splitter.split_documents(documents)\n",
    "len(docs)\n",
    "\n",
    "## 문서를 쪼갠다. 문서의 길이는?\n",
    "# 4096 token = 3000 English word\n",
    "\n",
    "## chatgpt 에도 한계가 정해져있기때문이다."
   ]
  },
  {
   "cell_type": "code",
   "execution_count": 35,
   "id": "f5f3ca17-20f3-403d-b77a-38dc5ba81de8",
   "metadata": {
    "tags": []
   },
   "outputs": [
    {
     "name": "stdout",
     "output_type": "stream",
     "text": [
      "2022년 (총 5회)\n",
      "\n",
      "\n",
      "Attention (총 5회)\n",
      "8월 18일 Mnet 《엠카운트다운》 1위\n",
      "8월 19일 KBS2 《뮤직뱅크》 K-Chart 1위\n",
      "8월 20일 MBC 《쇼! 음악중심》 1위\n",
      "8월 21일 SBS 《SBS 인기가요》 1위\n",
      "8월 28일 SBS 《SBS 인기가요》 1위 (2주 연속)\n",
      "\n",
      "\n",
      "2023년 (총 15회)\n",
      "\n",
      "\n",
      "Ditto (총 8회)\n",
      "1월 7일 MBC 《쇼! 음악중심》 1위\n",
      "1월 8일 SBS 《SBS 인기가요》 1위\n",
      "1월 13일 KBS2 《뮤직뱅크》 K-Chart 1위\n",
      "1월 14일 MBC 《쇼! 음악중심》 1위 (2주 연속)\n",
      "1월 28일 MBC 《쇼! 음악중심》 1위 (통산 3주)\n",
      "1월 29일 SBS 《SBS 인기가요》1위 (통산 2주)\n",
      "2월 4일 MBC 《쇼! 음악중심》 1위 (통산 4주)\n",
      "2월 5일 SBS 《SBS 인기가요》1위 (트리플 크라운)\n",
      "OMG (총 6회)\n",
      "1월 12일 Mnet 《엠카운트다운》 1위\n",
      "1월 15일 SBS 《SBS 인기가요》 1위\n",
      "1월 26일 Mnet 《엠카운트다운》 1위 (통산 2주)\n",
      "1월 27일 KBS2 《뮤직뱅크》 K-Chart 1위\n",
      "3월 19일 SBS 《SBS 인기가요》1위 (통산 2주)\n",
      "3월 26일 SBS 《SBS 인기가요》 1위 (트리플 크라운)\n",
      "Hype boy (총 1회)\n",
      "4월 2일 SBS 《SBS 인기가요》 1위\n",
      "\n",
      "\n",
      "기타 시상식[편집]\n",
      "2022년 더 팩트 뮤직 어워즈 넥스트 리더상\n",
      "2022년 멜론 뮤직 어워즈 TOP 10\n",
      "2022년 멜론 뮤직 어워즈 올해의 신인상\n",
      "2022년 아시아 아티스트 어워즈 올해의 퍼포먼스상\n",
      "2022년 아시아 아티스트 어워즈 가수 부문 여자 신인상\n",
      "2023년 골든 디스크 시상식 디지털음원 부문 본상\n",
      "2023년 골든 디스크 시상식 여자 신인상\n",
      "2023년 제32회 하이원 서울가요대상 여자 신인상\n",
      "2023년 30주년 한터뮤직 어워즈 2022 올해의 루키상 (여성 아티스트)\n",
      "2023년 써클차트 뮤직 어워즈 디지털 음원 부문 올해의 신인상\n",
      "외부 링크[편집]\n"
     ]
    }
   ],
   "source": [
    "print(docs[3].page_content)"
   ]
  },
  {
   "cell_type": "markdown",
   "id": "3b9e98f5-5ceb-490b-b7e6-bd07a2fa9a0b",
   "metadata": {},
   "source": [
    "### summary"
   ]
  },
  {
   "cell_type": "markdown",
   "id": "d34785a6-73a4-4c91-9efd-38a3b9a94a5e",
   "metadata": {},
   "source": [
    "* \"stuff\": LLM 한번에 다 보냄. 길면 오류남\n",
    "* \"map_reduce\": 나눠서 요약, 전체 요약본 다시 요약\n",
    "* \"refine\": (요약 + 다음 문서) => 요약\n",
    "* \"map_rerank\": 점수매겨서 중요한거로 요약"
   ]
  },
  {
   "cell_type": "code",
   "execution_count": 36,
   "id": "32f86265-c8bc-4ce4-b6f1-96c6ff8f07a5",
   "metadata": {
    "collapsed": true,
    "jupyter": {
     "outputs_hidden": true
    },
    "tags": []
   },
   "outputs": [
    {
     "name": "stdout",
     "output_type": "stream",
     "text": [
      "\n",
      "\n",
      "\u001b[1m> Entering new MapReduceDocumentsChain chain...\u001b[0m\n",
      "Prompt after formatting:\n",
      "\u001b[32;1m\u001b[1;3mWrite a concise summary of the following:\n",
      "\n",
      "\n",
      "\"NewJeans - 위키백과, 우리 모두의 백과사전\n",
      "\n",
      "\n",
      "\n",
      "\n",
      "\n",
      "\n",
      "\n",
      "\n",
      "\n",
      "\n",
      "\n",
      "\n",
      "\n",
      "\n",
      "\n",
      "\n",
      "\n",
      "\n",
      "\n",
      "\n",
      "\n",
      "\n",
      "\n",
      "\n",
      "\n",
      "\n",
      "\n",
      "\n",
      "\n",
      "\n",
      "\n",
      "\n",
      "\n",
      "\n",
      "\n",
      "\n",
      "\n",
      "\n",
      "본문으로 이동\n",
      "\n",
      "\n",
      "\n",
      "\n",
      "\n",
      "\n",
      "\n",
      "\n",
      "주 메뉴\n",
      "\n",
      "\n",
      "\n",
      "\n",
      "\n",
      "주 메뉴\n",
      "사이드바로 이동\n",
      "숨기기\n",
      "\n",
      "\n",
      "\n",
      "\t\t둘러보기\n",
      "\t\n",
      "\n",
      "대문최근 바뀜요즘 화제임의의 문서로기부\n",
      "\n",
      "\n",
      "\n",
      "\n",
      "\t\t사용자 모임\n",
      "\t\n",
      "\n",
      "사랑방사용자 모임관리 요청\n",
      "\n",
      "\n",
      "\n",
      "\n",
      "\t\t편집 안내\n",
      "\t\n",
      "\n",
      "도움말정책과 지침질문방\n",
      "\n",
      "\n",
      "\n",
      "\n",
      "언어\n",
      "\n",
      "이 위키백과에서 언어 링크는 문서 제목 건너편의 문서 최상단에 있습니다. 최상단으로 이동합니다.\n",
      "\n",
      "\n",
      "\n",
      "\n",
      "\n",
      "\n",
      "\n",
      "\n",
      "\n",
      "\n",
      "\n",
      "\n",
      "\n",
      "\n",
      "\n",
      "\n",
      "\n",
      "\n",
      "\n",
      "검색\n",
      "\n",
      "\n",
      "\n",
      "\n",
      "\n",
      "\n",
      "\n",
      "\n",
      "\n",
      "\n",
      "\n",
      "\n",
      "\n",
      "\n",
      "\n",
      "계정 만들기로그인\n",
      "\n",
      "\n",
      "\n",
      "\n",
      "\n",
      "\n",
      "개인 도구\n",
      "\n",
      "\n",
      "\n",
      "\n",
      " 계정 만들기 로그인\n",
      "\n",
      "\n",
      "\n",
      "\n",
      "\t\t로그아웃한 편집자를 위한 문서 더 알아보기\n",
      "\n",
      "\n",
      "기여토론\n",
      "\n",
      "\n",
      "\n",
      "\n",
      "\n",
      "\n",
      "\n",
      "\n",
      "\n",
      "\n",
      "\n",
      "\n",
      "\n",
      "\n",
      "\n",
      "\n",
      "\n",
      "\n",
      "\n",
      "\n",
      "\n",
      "\n",
      "\n",
      "\n",
      "\n",
      "\n",
      "목차\n",
      "사이드바로 이동\n",
      "숨기기\n",
      "\n",
      "\n",
      "\n",
      "\n",
      "처음 위치\n",
      "\n",
      "\n",
      "\n",
      "\n",
      "\n",
      "1활동\n",
      "\n",
      "\n",
      "\t\t\t\t활동 하위섹션 토글하기\n",
      "\t\t\t\n",
      "\n",
      "\n",
      "\n",
      "\n",
      "1.1데뷔 전\n",
      "\n",
      "\n",
      "\n",
      "\n",
      "\n",
      "\n",
      "\n",
      "1.22022년\n",
      "\n",
      "\n",
      "\n",
      "\n",
      "\n",
      "\n",
      "\n",
      "\n",
      "\n",
      "2구성원\n",
      "\n",
      "\n",
      "\n",
      "\n",
      "\n",
      "\n",
      "\n",
      "3음반\n",
      "\n",
      "\n",
      "\t\t\t\t음반 하위섹션 토글하기\n",
      "\t\t\t\n",
      "\n",
      "\n",
      "\n",
      "\n",
      "3.1EP\n",
      "\n",
      "\n",
      "\n",
      "\n",
      "\n",
      "\n",
      "\n",
      "3.2싱글\n",
      "\n",
      "\n",
      "\n",
      "\n",
      "\n",
      "\n",
      "\n",
      "\n",
      "\n",
      "4음반 외 활동\n",
      "\n",
      "\n",
      "\n",
      "\n",
      "\n",
      "\n",
      "\n",
      "5수상 목록\n",
      "\n",
      "\n",
      "\t\t\t\t수상 목록 하위섹션 토글하기\n",
      "\t\t\t\n",
      "\n",
      "\n",
      "\n",
      "\n",
      "5.1가요 프로그램 1위\n",
      "\n",
      "\n",
      "\n",
      "\n",
      "\n",
      "\n",
      "\n",
      "\n",
      "\n",
      "6기타 시상식\n",
      "\n",
      "\n",
      "\n",
      "\n",
      "\n",
      "\n",
      "\n",
      "7외부 링크\n",
      "\n",
      "\n",
      "\n",
      "\n",
      "\n",
      "\n",
      "\n",
      "\n",
      "\n",
      "\n",
      "\n",
      "\n",
      "\t\t\t\t\t\t목차 토글\n",
      "\t\t\t\t\t\n",
      "\n",
      "\n",
      "\n",
      "\n",
      "\n",
      "목차 토글\n",
      "\n",
      "\n",
      "\n",
      "\n",
      "\n",
      "\n",
      "\n",
      "NewJeans\n",
      "\n",
      "\n",
      "\n",
      "\n",
      "20개 언어\n",
      "\n",
      "\n",
      "\n",
      "العربيةБеларускаяEnglishEspañolفارسیSuomiFrançaisՀայերենBahasa Indonesia日本語PolskiPortuguêsРусскийSlovenčinaไทยTürkçeУкраїнськаOʻzbekcha / ўзбекчаTiếng Việt中文\n",
      "링크 편집\n",
      "\n",
      "\n",
      "\n",
      "\n",
      "\n",
      "\n",
      "\n",
      "\n",
      "\n",
      "\n",
      "\n",
      "문서\n",
      "\n",
      "토론\n",
      "\n",
      "\n",
      "\n",
      "\n",
      "\n",
      "\n",
      "\n",
      "한국어\n",
      "\n",
      "\n",
      "\n",
      "\n",
      "\n",
      "\n",
      "\n",
      "\n",
      "\n",
      "\n",
      "\n",
      "\n",
      "\n",
      "\n",
      "읽기\n",
      "\n",
      "편집\n",
      "\n",
      "역사 보기\n",
      "\n",
      "\n",
      "\n",
      "\n",
      "\n",
      "\n",
      "\n",
      "\n",
      "\n",
      "도구\n",
      "\n",
      "\n",
      "\n",
      "\n",
      "\n",
      "도구\n",
      "사이드바로 이동\n",
      "숨기기\"\n",
      "\n",
      "\n",
      "CONCISE SUMMARY:\u001b[0m\n",
      "Prompt after formatting:\n",
      "\u001b[32;1m\u001b[1;3mWrite a concise summary of the following:\n",
      "\n",
      "\n",
      "\"동작\n",
      "\t\n",
      "\n",
      "읽기편집역사 보기\n",
      "\n",
      "\n",
      "\n",
      "\n",
      "\t\t일반\n",
      "\t\n",
      "\n",
      "여기를 가리키는 문서가리키는 글의 최근 바뀜파일 올리기특수 문서 목록고유 링크문서 정보이 문서 인용하기위키데이터 항목\n",
      "\n",
      "\n",
      "\n",
      "\n",
      "\t\t인쇄/내보내기\n",
      "\t\n",
      "\n",
      "책 만들기PDF로 다운로드인쇄용 판\n",
      "\n",
      "\n",
      "\n",
      "\n",
      "\t\t다른 프로젝트\n",
      "\t\n",
      "\n",
      "위키미디어 공용\n",
      "\n",
      "\n",
      "\n",
      "\n",
      "\n",
      "\n",
      "\n",
      "\n",
      "\n",
      "\n",
      "\n",
      "\n",
      "\n",
      "\n",
      "\n",
      "\n",
      "\n",
      "\n",
      "\n",
      "\n",
      "위키백과, 우리 모두의 백과사전.\n",
      "\n",
      "\n",
      "\n",
      "\n",
      "  EP에 대해서는 New Jeans (EP) 문서를 참고하십시오.\n",
      "\n",
      "\n",
      "NewJeans뉴진스\n",
      "\n",
      "\n",
      "\n",
      "\n",
      "\n",
      "\n",
      "\n",
      "\n",
      "기본 정보\n",
      "\n",
      "\n",
      "결성 지역\n",
      "\n",
      "대한민국 서울특별시\n",
      "\n",
      "\n",
      "장르\n",
      "\n",
      "K-pop댄스 팝\n",
      "\n",
      "\n",
      "활동 시기\n",
      "\n",
      "2022년 7월 22일 ~\n",
      "\n",
      "\n",
      "레이블\n",
      "\n",
      "하이브\n",
      "\n",
      "\n",
      "소속사\n",
      "\n",
      "어도어\n",
      "\n",
      "\n",
      "웹사이트\n",
      "\n",
      "공식 홈페이지\n",
      "\n",
      "\n",
      "구성원\n",
      "\n",
      "\n",
      "민지하니다니엘해린혜인\n",
      "\n",
      "\n",
      "NewJeans(뉴진스)는 2022년 7월 22일에 데뷔한 대한민국의 5인조 걸 그룹으로, 소속사는 하이브 산하의 레이블인 어도어이다. SM 엔터테인먼트 디렉터 출신으로 하이브에 영입된 민희진이 프로듀서로 나서서 발굴한 걸그룹이다. 2022년 8월 18일 《엠카운트다운》에서 데뷔 3주만에 첫 1위를 차지했다.\n",
      "\n",
      "\n",
      "활동[편집]\n",
      "이 문단은 영어 위키백과의 NewJeans 문서를 번역하여 문서의 내용을 확장할 필요가 있습니다.중요한 번역 안내를 보려면 [펼치기]를 클릭하십시오.\n",
      "신뢰성 있고 확인할 수 있는 출처가 제시되도록 번역하여 주십시오.\n",
      "번역을 완료한 후에는 {{번역된 문서}} 틀을 토론창에 표기하여 저작자를 표시하여 주십시오.\n",
      "문맥상 이해를 돕기 위해 관련 문서를 같이 번역해주시는 것이 좋습니다.\n",
      "번역을 확장할 필요가 있는 내용이 포함된 다른 문서를 보고 싶으시다면 분류:번역 확장 필요 문서를 참고해주세요.\n",
      "데뷔 전[편집]\n",
      "민지와 하니는 방탄소년단의 Permission to Dance 뮤직비디오에 출연하였다.\"\n",
      "\n",
      "\n",
      "CONCISE SUMMARY:\u001b[0m\n",
      "Prompt after formatting:\n",
      "\u001b[32;1m\u001b[1;3mWrite a concise summary of the following:\n",
      "\n",
      "\n",
      "\"2022년[편집]\n",
      "7월 22일 Attention 뮤직비디오를 공개함으로 데뷔를 했다. 23일 Hype Boy 뮤직비디오를 통해 맴버 5명의 이름을 공개,  8월 1일 음원 공개를 했으며, 8일에 정식 앨범《Newjeans 1st EP 'New Jeans'》를 발매했다.\n",
      "\n",
      "구성원[편집]\n",
      "\n",
      "\n",
      "이름\n",
      "\n",
      "소개\n",
      "\n",
      "\n",
      "민지\n",
      "\n",
      "\n",
      "본명: 김민지(金玟池)\n",
      "생년월일: 2004년 5월 7일(2004-05-07)(18세)\n",
      "학력 : 한림예술고등학교 (졸업)\n",
      "출생지: 대한민국 강원도 춘천시\n",
      "활동기간 : 2022년 7월 22일 ~\n",
      "\n",
      "\n",
      "하니\n",
      "\n",
      "\n",
      "본명: 하니 팜(Hanni Pham), 팜 응옥 헌(范玉欣/Phạm Ngọc Hân)\n",
      "생년월일: 2004년 10월 6일(2004-10-06)(18세)\n",
      "출생지: 오스트레일리아 빅토리아주 멜버른\n",
      "활동기간 : 2022년 7월 22일 ~\n",
      "\n",
      "\n",
      "다니엘\n",
      "\n",
      "\n",
      "본명: 다니엘 마쉬(Danielle Marsh), 모지혜(牟智慧)\n",
      "생년월일: 2005년 4월 11일(2005-04-11)(18세)\n",
      "출생지: 오스트레일리아 뉴사우스웨일스주 뉴캐슬\n",
      "활동기간 : 2022년 7월 22일 ~\n",
      "\n",
      "\n",
      "해린\n",
      "\n",
      "\n",
      "본명: 강해린(姜諧潾)\n",
      "생년월일: 2006년 5월 15일(2006-05-15)(16세)\n",
      "출생지: 대한민국 서울특별시\n",
      "학력: 중학교 졸업학력 검정고시 (합격)\n",
      "활동기간: 2022년 7월 22일 ~\n",
      "\n",
      "\n",
      "혜인\n",
      "\n",
      "\n",
      "본명: 이혜인(李惠仁)\n",
      "생년월일: 2008년 4월 21일(2008-04-21)(14세)\n",
      "출생지: 대한민국 인천광역시 미추홀구\n",
      "학력: 한국국제크리스천스쿨 (중퇴)\n",
      "활동기간: 2022년 7월 22일 ~\n",
      "\n",
      "음반[편집]\n",
      "EP[편집]\n",
      "2022년 8월 1일 《New Jeans》\n",
      "싱글[편집]\n",
      "2022년 12월 19일 《Ditto》\n",
      "2023년 1월 2일 《OMG》 (1집)\n",
      "2023년 4월 3일 《Zero》\n",
      "음반 외 활동[편집]\n",
      "SBS 《뉴진스 코드 in 부산》\n",
      "tvN 《유 퀴즈 온 더 블럭》 게스트\n",
      "수상 목록[편집]\n",
      "가요 프로그램 1위[편집]\n",
      "\n",
      "\n",
      "연도\n",
      "\n",
      "수상 내역 (총 20회)\"\n",
      "\n",
      "\n",
      "CONCISE SUMMARY:\u001b[0m\n",
      "\n",
      "\n",
      "\u001b[1m> Entering new StuffDocumentsChain chain...\u001b[0m\n",
      "\n",
      "\n",
      "\u001b[1m> Entering new LLMChain chain...\u001b[0m\n",
      "Prompt after formatting:\n",
      "\u001b[32;1m\u001b[1;3mWrite a concise summary of the following:\n",
      "\n",
      "\n",
      "\"NewJeans is a South Korean music group that debuted in 2022. They have released an EP and a single, and have won awards on various music programs. They have also been active in other areas outside of music.\n",
      "\n",
      "NewJeans is a five-member girl group from South Korea that debuted on July 22, 2022, under the label of HIVE's subsidiary, Adoer. The group was produced by Min Hee-jin, a former SM Entertainment director who joined HIVE. They achieved their first win on M Countdown just three weeks after their debut. Two members, Minji and Hani, appeared in BTS's \"Permission to Dance\" music video before their debut.\n",
      "\n",
      "New Jeans is a South Korean girl group that debuted in July 2022 with the release of their music video for \"Attention\" and later released their first EP, \"New Jeans.\" The group consists of five members: Minji, Hani, Daniel, Haerin, and Hyeeun. They have also released singles such as \"Ditto\" and have appeared on various TV shows.\"\n",
      "\n",
      "\n",
      "CONCISE SUMMARY:\u001b[0m\n",
      "\n",
      "\u001b[1m> Finished chain.\u001b[0m\n",
      "\n",
      "\u001b[1m> Finished chain.\u001b[0m\n",
      "\n",
      "\u001b[1m> Finished chain.\u001b[0m\n"
     ]
    },
    {
     "data": {
      "text/plain": [
       "'NewJeans is a South Korean girl group that debuted in July 2022 under the label of HIVE\\'s subsidiary, Adoer. They have released an EP and a single, and have won awards on various music programs. The group consists of five members and was produced by Min Hee-jin. Two members appeared in BTS\\'s \"Permission to Dance\" music video before their debut. They have also been active in other areas outside of music and have appeared on various TV shows.'"
      ]
     },
     "execution_count": 36,
     "metadata": {},
     "output_type": "execute_result"
    }
   ],
   "source": [
    "#@title 8. Summarization\n",
    "from langchain.chains.summarize import load_summarize_chain\n",
    "chain = load_summarize_chain(chat, chain_type=\"map_reduce\", verbose=True)\n",
    "chain.run(docs[:3])\n",
    "\n",
    "### map reduce 는 요약하는걸또 요약하는 방식이다.\n"
   ]
  },
  {
   "cell_type": "markdown",
   "id": "8427d8c1-258e-4f4c-8a58-00f4a97a0070",
   "metadata": {},
   "source": [
    "# Embeddings and VectorStore"
   ]
  },
  {
   "cell_type": "markdown",
   "id": "3599cbc8-3a57-46ce-a63a-d144d7a21b24",
   "metadata": {},
   "source": [
    "* Embedding : LLM에 input(text)를 넣었을때 나오는 특징 벡터 - Neural Network의 특정 메모리를 읽어서 만들고, 보통 512개 이상의 float로 만들어짐.\n",
    "* 의미상 비슷한 input이 들어갔을때, 나오는 특징 벡터가 유사한 특징을 갖고, 거리상 가깝다.\n",
    "* OpenAI에서 text를 넣으면 Embedding을 돌려주는 API를 제공한다. (다만 비용 발생)\n",
    "* 로컬에서 유사한 알고리즘을 돌릴수 있다. (다만 똑같은 벡터는 아니고, openAI 임베딩과는 비교할수 없다)\n",
    "* HuggingFaceEmbeddings 사용하면 로컬에서 돌릴수 있고, GPU 있다면 가속도 지원함.\n",
    "* Vector Database는 Embedding 벡터와 텍스트를 저장하는 DB\n",
    "  * Pinecone 서비스 (유료, 무료 제한적)\n",
    "  * FAISS (페이스북, 오픈소스, 로컬)\n",
    "  * Embeddings -> 텍스트를 저장\n",
    "  * Embeddings로 검색할수 있으며, 거리상 가장 가까운 항목을 가져올수 있음. (거리를 구하는 방법은 여러가지)\n",
    "  * 유사한 의미를 갖는 텍스트에 대한 Embedding 벡터는 거리상 가깝다."
   ]
  },
  {
   "cell_type": "code",
   "execution_count": 37,
   "id": "f2a5271c-e509-4a4b-8d1c-56ab0bb77d32",
   "metadata": {
    "tags": []
   },
   "outputs": [
    {
     "data": {
      "application/vnd.jupyter.widget-view+json": {
       "model_id": "550968bd67584534a875eff01da218a0",
       "version_major": 2,
       "version_minor": 0
      },
      "text/plain": [
       "Downloading (…)a8e1d/.gitattributes:   0%|          | 0.00/1.18k [00:00<?, ?B/s]"
      ]
     },
     "metadata": {},
     "output_type": "display_data"
    },
    {
     "data": {
      "application/vnd.jupyter.widget-view+json": {
       "model_id": "fc65cf0407d542d9a84e8b7afc6d601e",
       "version_major": 2,
       "version_minor": 0
      },
      "text/plain": [
       "Downloading (…)_Pooling/config.json:   0%|          | 0.00/190 [00:00<?, ?B/s]"
      ]
     },
     "metadata": {},
     "output_type": "display_data"
    },
    {
     "data": {
      "application/vnd.jupyter.widget-view+json": {
       "model_id": "c36ec302d67343bcb234742046b7b218",
       "version_major": 2,
       "version_minor": 0
      },
      "text/plain": [
       "Downloading (…)b20bca8e1d/README.md:   0%|          | 0.00/10.6k [00:00<?, ?B/s]"
      ]
     },
     "metadata": {},
     "output_type": "display_data"
    },
    {
     "data": {
      "application/vnd.jupyter.widget-view+json": {
       "model_id": "deede3cf1f0e4900bcaf36495dd91291",
       "version_major": 2,
       "version_minor": 0
      },
      "text/plain": [
       "Downloading (…)0bca8e1d/config.json:   0%|          | 0.00/571 [00:00<?, ?B/s]"
      ]
     },
     "metadata": {},
     "output_type": "display_data"
    },
    {
     "data": {
      "application/vnd.jupyter.widget-view+json": {
       "model_id": "2c4a2764aa324c209f5584f2eab4e0c3",
       "version_major": 2,
       "version_minor": 0
      },
      "text/plain": [
       "Downloading (…)ce_transformers.json:   0%|          | 0.00/116 [00:00<?, ?B/s]"
      ]
     },
     "metadata": {},
     "output_type": "display_data"
    },
    {
     "data": {
      "application/vnd.jupyter.widget-view+json": {
       "model_id": "fb2358df5acc4abebb00eae7258ee0a7",
       "version_major": 2,
       "version_minor": 0
      },
      "text/plain": [
       "Downloading (…)e1d/data_config.json:   0%|          | 0.00/39.3k [00:00<?, ?B/s]"
      ]
     },
     "metadata": {},
     "output_type": "display_data"
    },
    {
     "data": {
      "application/vnd.jupyter.widget-view+json": {
       "model_id": "7683ec367fa54b93b78ef5929590d9d3",
       "version_major": 2,
       "version_minor": 0
      },
      "text/plain": [
       "Downloading pytorch_model.bin:   0%|          | 0.00/438M [00:00<?, ?B/s]"
      ]
     },
     "metadata": {},
     "output_type": "display_data"
    },
    {
     "data": {
      "application/vnd.jupyter.widget-view+json": {
       "model_id": "ba9e040f9e8c48faa2cc05f3aea7a4ed",
       "version_major": 2,
       "version_minor": 0
      },
      "text/plain": [
       "Downloading (…)nce_bert_config.json:   0%|          | 0.00/53.0 [00:00<?, ?B/s]"
      ]
     },
     "metadata": {},
     "output_type": "display_data"
    },
    {
     "data": {
      "application/vnd.jupyter.widget-view+json": {
       "model_id": "25dace2b002441f892afad1c9279513b",
       "version_major": 2,
       "version_minor": 0
      },
      "text/plain": [
       "Downloading (…)cial_tokens_map.json:   0%|          | 0.00/239 [00:00<?, ?B/s]"
      ]
     },
     "metadata": {},
     "output_type": "display_data"
    },
    {
     "data": {
      "application/vnd.jupyter.widget-view+json": {
       "model_id": "8e35a74aea2b4bc89630abfd1dbc036e",
       "version_major": 2,
       "version_minor": 0
      },
      "text/plain": [
       "Downloading (…)a8e1d/tokenizer.json:   0%|          | 0.00/466k [00:00<?, ?B/s]"
      ]
     },
     "metadata": {},
     "output_type": "display_data"
    },
    {
     "data": {
      "application/vnd.jupyter.widget-view+json": {
       "model_id": "3a2cd9247441432aaab68c99b9a37e05",
       "version_major": 2,
       "version_minor": 0
      },
      "text/plain": [
       "Downloading (…)okenizer_config.json:   0%|          | 0.00/363 [00:00<?, ?B/s]"
      ]
     },
     "metadata": {},
     "output_type": "display_data"
    },
    {
     "data": {
      "application/vnd.jupyter.widget-view+json": {
       "model_id": "b0fe5e1720fc4843b06f31fe51a8ef9e",
       "version_major": 2,
       "version_minor": 0
      },
      "text/plain": [
       "Downloading (…)8e1d/train_script.py:   0%|          | 0.00/13.1k [00:00<?, ?B/s]"
      ]
     },
     "metadata": {},
     "output_type": "display_data"
    },
    {
     "data": {
      "application/vnd.jupyter.widget-view+json": {
       "model_id": "fa332e4cb83c406d8b26c15eaea66b07",
       "version_major": 2,
       "version_minor": 0
      },
      "text/plain": [
       "Downloading (…)b20bca8e1d/vocab.txt:   0%|          | 0.00/232k [00:00<?, ?B/s]"
      ]
     },
     "metadata": {},
     "output_type": "display_data"
    },
    {
     "data": {
      "application/vnd.jupyter.widget-view+json": {
       "model_id": "9d5ac0e00e154306a9a2af101c81e004",
       "version_major": 2,
       "version_minor": 0
      },
      "text/plain": [
       "Downloading (…)bca8e1d/modules.json:   0%|          | 0.00/349 [00:00<?, ?B/s]"
      ]
     },
     "metadata": {},
     "output_type": "display_data"
    }
   ],
   "source": [
    "#@title 9. Embeddings and VectorStore\n",
    "from langchain.embeddings import HuggingFaceEmbeddings\n",
    "from langchain.embeddings import OpenAIEmbeddings\n",
    "\n",
    "# embeddings = OpenAIEmbeddings()\n",
    "embeddings = HuggingFaceEmbeddings()\n",
    "\n",
    "from langchain.indexes import VectorstoreIndexCreator\n",
    "from langchain.vectorstores import FAISS\n",
    "# Faiss 를 주로 사용한다.\n",
    "# from langchain.text_splitter import RecursiveCharacterTextSplitter\n",
    "# text_splitter = RecursiveCharacterTextSplitter(chunk_size=1000, chunk_overlap=0)\n",
    "\n",
    "index = VectorstoreIndexCreator(\n",
    "    vectorstore_cls=FAISS,\n",
    "    embedding=embeddings,\n",
    "    # text_splitter=text_splitter,\n",
    "    ).from_loaders([loader])\n",
    "\n",
    "## 열개의 문서에 대해서 임베딩 벡터를 구한다. 특징 벡터를 추출한다음에 저장한다. \n",
    "# 특징벡터와 텍스트를 DBVectorStore에다 저장을한다.\n",
    "\n",
    "# 파일로 저장\n",
    "index.vectorstore.save_local(\"faiss-nj\")"
   ]
  },
  {
   "cell_type": "code",
   "execution_count": 40,
   "id": "74331376-8cac-431b-b24f-74b4f6ea55d6",
   "metadata": {
    "tags": []
   },
   "outputs": [
    {
     "name": "stdout",
     "output_type": "stream",
     "text": [
      "\n",
      "\n",
      "\u001b[1m> Entering new RetrievalQA chain...\u001b[0m\n",
      "\n",
      "\u001b[1m> Finished chain.\u001b[0m\n"
     ]
    },
    {
     "data": {
      "text/plain": [
       "'뉴진스의 데뷔곡은 \"Attention\"입니다.'"
      ]
     },
     "execution_count": 40,
     "metadata": {},
     "output_type": "execute_result"
    }
   ],
   "source": [
    "### 그다음 index query를 하면된다.\n",
    "\n",
    "index.query(\"뉴진스의 데뷔곡은?\", llm=chat, verbose=True)\n",
    "# verbose 는 모델의 상태에 대해 설명해준다"
   ]
  },
  {
   "cell_type": "markdown",
   "id": "19d2ec88-0b0c-48e1-b45a-7460f1c8cc71",
   "metadata": {},
   "source": [
    "## 저장된 DB를 불러와서 읽을수 있다."
   ]
  },
  {
   "cell_type": "code",
   "execution_count": 41,
   "id": "116bfc78-b092-40bd-a3d3-ede0e0760877",
   "metadata": {
    "tags": []
   },
   "outputs": [],
   "source": [
    "#@title FAISS 벡터DB 디스크에서 불러오기\n",
    "from langchain.indexes.vectorstore import VectorStoreIndexWrapper\n",
    "\n",
    "fdb = FAISS.load_local(\"faiss-nj\", embeddings)\n",
    "## 뉴진스 \n",
    "index2 = VectorStoreIndexWrapper(vectorstore=fdb)\n",
    "\n",
    "## vector store 에서 불러온다."
   ]
  },
  {
   "cell_type": "code",
   "execution_count": 43,
   "id": "d3eb7e90-c839-4527-ba26-43442cc47ecc",
   "metadata": {
    "tags": []
   },
   "outputs": [
    {
     "name": "stdout",
     "output_type": "stream",
     "text": [
      "\n",
      "\n",
      "\u001b[1m> Entering new RetrievalQA chain...\u001b[0m\n",
      "\n",
      "\u001b[1m> Finished chain.\u001b[0m\n"
     ]
    },
    {
     "data": {
      "text/plain": [
       "'뉴진스는 5인조 걸그룹으로, 멤버들의 이름과 생년월일은 다음과 같습니다.\\n\\n- 민지: 김민지, 2004년 5월 7일\\n- 하니: 하니 팜 (팜 응옥 헌), 2004년 10월 6일\\n- 다니엘: 다니엘 마쉬 (모지혜), 2005년 4월 11일\\n- 해린: 강해린, 2006년 5월 15일\\n- 혜인: 이혜인, 2008년 4월 21일\\n\\n현재(2023년) 멤버들의 나이는 다음과 같습니다.\\n\\n- 민지: 19세\\n- 하니: 19세\\n- 다니엘: 18세\\n- 해린: 17세\\n- 혜인: 15세'"
      ]
     },
     "execution_count": 43,
     "metadata": {},
     "output_type": "execute_result"
    }
   ],
   "source": [
    "index2.query(llm=chat, question= '뉴진스의 멤버수와 멤버나이는?현재(2023년) 그리고 값출력할때 \\n 이문자들 없애줘',verbose = True)"
   ]
  },
  {
   "cell_type": "code",
   "execution_count": null,
   "id": "58545e82-432a-4252-91b6-783794dd9654",
   "metadata": {},
   "outputs": [],
   "source": []
  }
 ],
 "metadata": {
  "kernelspec": {
   "display_name": "my_pdf",
   "language": "python",
   "name": "pdf"
  },
  "language_info": {
   "codemirror_mode": {
    "name": "ipython",
    "version": 3
   },
   "file_extension": ".py",
   "mimetype": "text/x-python",
   "name": "python",
   "nbconvert_exporter": "python",
   "pygments_lexer": "ipython3",
   "version": "3.11.2"
  }
 },
 "nbformat": 4,
 "nbformat_minor": 5
}
